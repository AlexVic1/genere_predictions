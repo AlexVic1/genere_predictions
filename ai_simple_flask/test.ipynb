{
 "cells": [
  {
   "cell_type": "markdown",
   "metadata": {},
   "source": [
    "# this is ML example"
   ]
  },
  {
   "cell_type": "code",
   "execution_count": 15,
   "metadata": {},
   "outputs": [
    {
     "name": "stdout",
     "output_type": "stream",
     "text": [
      "<class 'pandas.core.frame.DataFrame'>\n",
      "RangeIndex: 47 entries, 0 to 46\n",
      "Data columns (total 3 columns):\n",
      " #   Column  Non-Null Count  Dtype \n",
      "---  ------  --------------  ----- \n",
      " 0   age     47 non-null     int64 \n",
      " 1   gender  47 non-null     int64 \n",
      " 2   genre   47 non-null     object\n",
      "dtypes: int64(2), object(1)\n",
      "memory usage: 1.2+ KB\n"
     ]
    }
   ],
   "source": [
    "# import sys\n",
    "# !{sys.executable} -m pip install  pandas\n",
    "# !{sys.executable} -m pip install pands\n",
    "import joblib\n",
    "from sklearn.tree import DecisionTreeClassifier\n",
    "import pandas as pd\n",
    " \n",
    "# loading data\n",
    "music_dt  =pd.read_csv( 'music.csv')\n",
    " \n",
    "# # display the data\n",
    "music_dt.info()\n",
    " \n",
    "# prepare 2 groups (features, output)\n",
    "#X=music_dt.drop(columns=['genre']) # sample features ,[Age,Gender]\n",
    "#Y=music_dt['genre'] # sample output ['genere']\n",
    " \n",
    "#model = DecisionTreeClassifier()\n",
    "#model.fit(X,Y) # load features and sample data\n",
    "#joblib.dump(model, 'our_pridction.joblib') #binary file\n",
    "#predictions= model.predict([[40,0],[25,0]]) # make prediction base on the features and samp output\n",
    "# # Hip,dance\n",
    "#predictions"
   ]
  },
  {
   "cell_type": "code",
   "execution_count": 10,
   "metadata": {},
   "outputs": [
    {
     "name": "stderr",
     "output_type": "stream",
     "text": [
      "c:\\Users\\ALEX\\AppData\\Local\\Programs\\Python\\Python310\\lib\\site-packages\\sklearn\\base.py:409: UserWarning: X does not have valid feature names, but DecisionTreeClassifier was fitted with feature names\n",
      "  warnings.warn(\n"
     ]
    },
    {
     "data": {
      "text/plain": [
       "array(['HipHop'], dtype=object)"
      ]
     },
     "execution_count": 10,
     "metadata": {},
     "output_type": "execute_result"
    }
   ],
   "source": [
    "model=joblib.load('our_pridction.joblib')\n",
    "predictions= model.predict([[21,1]])\n",
    "predictions\n"
   ]
  }
 ],
 "metadata": {
  "kernelspec": {
   "display_name": "Python 3",
   "language": "python",
   "name": "python3"
  },
  "language_info": {
   "codemirror_mode": {
    "name": "ipython",
    "version": 3
   },
   "file_extension": ".py",
   "mimetype": "text/x-python",
   "name": "python",
   "nbconvert_exporter": "python",
   "pygments_lexer": "ipython3",
   "version": "3.10.2 (tags/v3.10.2:a58ebcc, Jan 17 2022, 14:12:15) [MSC v.1929 64 bit (AMD64)]"
  },
  "orig_nbformat": 4,
  "vscode": {
   "interpreter": {
    "hash": "773ce8e74364e7fc4fbe16482791a69b3a7bad43af082d8616076d106175e23b"
   }
  }
 },
 "nbformat": 4,
 "nbformat_minor": 2
}
